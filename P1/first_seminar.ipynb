{
 "cells": [
  {
   "cell_type": "code",
   "execution_count": 9,
   "metadata": {},
   "outputs": [
    {
     "data": {
      "text/plain": [
       "'\\n%pip install numpy\\n%pip install ffmpeg-python\\n'"
      ]
     },
     "execution_count": 9,
     "metadata": {},
     "output_type": "execute_result"
    }
   ],
   "source": [
    "#If packages not installed\n",
    "'''\n",
    "%pip install numpy\n",
    "%pip install ffmpeg-python\n",
    "'''"
   ]
  },
  {
   "cell_type": "code",
   "execution_count": 1,
   "metadata": {},
   "outputs": [],
   "source": [
    "import ffmpeg\n",
    "import numpy as np"
   ]
  },
  {
   "cell_type": "code",
   "execution_count": 2,
   "metadata": {},
   "outputs": [],
   "source": [
    "class Image:\n",
    "\n",
    "    y = 0\n",
    "    u = 0\n",
    "    v = 0\n",
    "\n",
    "    def __init__(self, r, g, b):\n",
    "        self.r = r\n",
    "        self.g = g\n",
    "        self.b = b\n",
    "\n",
    "    def rgb_to_yuv(self):\n",
    "        self.y = (0.257 * self.r) + (0.504 * self.g) + (0.098 * self.b) + 16\n",
    "        self.u = (-0.148 * self.r) - (0.291 * self.g) + (0.439 * self.b) + 128\n",
    "        self.v = (0.439 * self.r) - (0.368 * self.g) - (0.071 * self.b) + 128\n",
    "    \n",
    "    def yuv_to_rgb(self):\n",
    "        self.b = 1.164 * (self.y - 16) + 2.018 * (self.u - 128)\n",
    "        self.g = 1.164 * (self.y - 16) - 0.813 * (self.v - 128) - 0.391 * (self.u - 128)\n",
    "        self.r = 1.164 * (self.y - 16) + 1.596 * (self.v - 128) \n",
    "    \n",
    "    def print_RGB_values(self):\n",
    "        print(\"R:\", self.r, \"\\n\")\n",
    "        print(\"G:\", self.g, \"\\n\")\n",
    "        print(\"B:\", self.b, \"\\n\")\n",
    "\n",
    "    def print_YUV_values(self):\n",
    "        print(\"Y:\", self.y, \"\\n\")\n",
    "        print(\"U:\", self.u, \"\\n\")\n",
    "        print(\"V:\", self.v, \"\\n\")"
   ]
  },
  {
   "cell_type": "code",
   "execution_count": 3,
   "metadata": {},
   "outputs": [
    {
     "name": "stdout",
     "output_type": "stream",
     "text": [
      "R: 100 \n",
      "\n",
      "G: 50 \n",
      "\n",
      "B: 255 \n",
      "\n",
      "Y: 91.89 \n",
      "\n",
      "U: 210.59500000000003 \n",
      "\n",
      "V: 135.395 \n",
      "\n",
      "R: 100.13838000000001 \n",
      "\n",
      "G: 50.02917999999999 \n",
      "\n",
      "B: 255.01267000000004 \n",
      "\n"
     ]
    }
   ],
   "source": [
    "#Exercise 2\n",
    "i1 = Image(100, 50, 255)\n",
    "i1.print_RGB_values()\n",
    "i1.rgb_to_yuv()\n",
    "i1.print_YUV_values()\n",
    "i1.yuv_to_rgb()\n",
    "i1.print_RGB_values()"
   ]
  },
  {
   "cell_type": "code",
   "execution_count": 4,
   "metadata": {},
   "outputs": [],
   "source": [
    "\n",
    "#Exercise 3\n",
    "out=(\n",
    "    ffmpeg\n",
    "    .input('image.jpg')\n",
    "    .filter(\"scale\", 1080,1080)\n",
    "    .output('out2.jpg')\n",
    "    .run(capture_stdout=True)\n",
    ")\n",
    "# ffmpeg\n",
    "# .input('image.jpg')\n",
    "# .filter(\"scale\", 368,5040).input('out.jpg')\n",
    "#resize_image = image.filter(\"scale\", 368,5040)\n",
    "#resize_image.input('out.jpg')\n"
   ]
  },
  {
   "cell_type": "code",
   "execution_count": 5,
   "metadata": {},
   "outputs": [],
   "source": [
    "#Exercise 4\n",
    "#Code by Paul Panzer taken from (https://stackoverflow.com/questions/57366966/serpentine-scan-pattern-generator)\n",
    "def zigzagiter(dims):\n",
    "    N = len(dims)\n",
    "    idx = N*[0]\n",
    "    drc = N*[1]\n",
    "    while True:\n",
    "        yield (*idx,)\n",
    "        for j in reversed(range(N)):\n",
    "            if idx[j] + drc[j] not in (-1, dims[j]):\n",
    "                idx[j] += drc[j]\n",
    "                break\n",
    "            drc[j] *= -1\n",
    "        else:\n",
    "            break\n",
    "###"
   ]
  },
  {
   "cell_type": "code",
   "execution_count": 6,
   "metadata": {},
   "outputs": [],
   "source": [
    "path = 'coltrane.jpg'\n",
    "coltrane = ffmpeg.input(path)\n",
    "\n",
    "probe = ffmpeg.probe(path)\n",
    "\n",
    "image_info = next(s for s in probe['streams'] if s['codec_type'] == 'video')\n",
    "\n",
    "width = int(image_info['width'])\n",
    "height = int(image_info['height'])\n",
    "\n",
    "out, err = (\n",
    "    ffmpeg\n",
    "    .input(path)\n",
    "    .output('pipe:', format='rawvideo', pix_fmt='rgb24')\n",
    "    .run(capture_stdout=True)\n",
    ")\n",
    "\n",
    "coltrane_array = (\n",
    "    np\n",
    "    .frombuffer(out, np.uint8)\n",
    "    .reshape([-1, height, width, 3])\n",
    ")"
   ]
  },
  {
   "cell_type": "code",
   "execution_count": 16,
   "metadata": {},
   "outputs": [],
   "source": [
    "image_squeezed = np.squeeze(coltrane_array)\n",
    "\n",
    "r = image_squeezed[:, :, 0]\n",
    "g = image_squeezed[:, :, 1]\n",
    "b = image_squeezed[:, :, 2]"
   ]
  },
  {
   "cell_type": "code",
   "execution_count": null,
   "metadata": {},
   "outputs": [
    {
     "data": {
      "text/plain": [
       "(None, None)"
      ]
     },
     "execution_count": 9,
     "metadata": {},
     "output_type": "execute_result"
    }
   ],
   "source": [
    "# Exercise 5.1:\n",
    "path = 'superbowl.jpg'\n",
    "coltrane = ffmpeg.input(path)\n",
    "\n",
    "probe = ffmpeg.probe(path)\n",
    "\n",
    "image_info = next(s for s in probe['streams'] if s['codec_type'] == 'video')\n",
    "\n",
    "width = int(image_info['width'])\n",
    "height = int(image_info['height'])\n",
    "\n",
    "\n",
    "ffmpeg.output(\n",
    "    coltrane.filter('hue', s=0),\n",
    "    'output_image_bw.jpg'\n",
    ").run()\n",
    "\n"
   ]
  },
  {
   "cell_type": "code",
   "execution_count": null,
   "metadata": {},
   "outputs": [],
   "source": [
    "#We assumed that the chain is given in an array. like: [1, 1, 1, 1, 0, 0, 0, 1, 0, 0, 1, 1]\n",
    "\n",
    "def codif_bits(bits_chain):\n",
    "    length = len(bits_chain)\n",
    "    encoding = \"\"\n",
    "    i = 0\n",
    "    while i < length:\n",
    "        count = 1\n",
    "        while i + 1 < length and bits_chain[i] == bits_chain[i + 1]:\n",
    "            count += 1\n",
    "            i += 1\n",
    "\n",
    "        encoding += str(bits_chain[i]) + str(count)\n",
    "        i += 1\n",
    "    \n",
    "    return encoding\n",
    "\n"
   ]
  },
  {
   "cell_type": "code",
   "execution_count": 4,
   "metadata": {},
   "outputs": [
    {
     "name": "stdout",
     "output_type": "stream",
     "text": [
      "1403110212\n"
     ]
    }
   ],
   "source": [
    "bits = [1, 1, 1, 1, 0, 0, 0, 1, 0, 0, 1, 1] \n",
    "encoded_bits = codif_bits(bits) \n",
    "print(encoded_bits)"
   ]
  }
 ],
 "metadata": {
  "kernelspec": {
   "display_name": "Python 3",
   "language": "python",
   "name": "python3"
  },
  "language_info": {
   "codemirror_mode": {
    "name": "ipython",
    "version": 3
   },
   "file_extension": ".py",
   "mimetype": "text/x-python",
   "name": "python",
   "nbconvert_exporter": "python",
   "pygments_lexer": "ipython3",
   "version": "3.11.10"
  }
 },
 "nbformat": 4,
 "nbformat_minor": 2
}
