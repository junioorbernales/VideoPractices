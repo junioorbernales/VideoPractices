{
 "cells": [
  {
   "cell_type": "code",
   "execution_count": 1,
   "metadata": {},
   "outputs": [
    {
     "data": {
      "text/plain": [
       "'\\n%pip install numpy\\n%pip install ffmpeg-python\\n%pip install scipy\\n%pip install opencv-python\\n%pip install scikit-image\\n%pip install PyWavelets\\n'"
      ]
     },
     "execution_count": 1,
     "metadata": {},
     "output_type": "execute_result"
    }
   ],
   "source": [
    "#If packages not installed\n",
    "'''\n",
    "%pip install numpy\n",
    "%pip install ffmpeg-python\n",
    "%pip install scipy\n",
    "%pip install opencv-python\n",
    "%pip install scikit-image\n",
    "%pip install PyWavelets\n",
    "'''"
   ]
  },
  {
   "cell_type": "code",
   "execution_count": 1,
   "metadata": {},
   "outputs": [],
   "source": [
    "import ffmpeg\n",
    "import numpy as np"
   ]
  },
  {
   "cell_type": "code",
   "execution_count": 2,
   "metadata": {},
   "outputs": [],
   "source": [
    "class Image:\n",
    "\n",
    "    y = 0\n",
    "    u = 0\n",
    "    v = 0\n",
    "\n",
    "    def __init__(self, r, g, b):\n",
    "        self.r = r\n",
    "        self.g = g\n",
    "        self.b = b\n",
    "\n",
    "    def rgb_to_yuv(self):\n",
    "        self.y = (0.257 * self.r) + (0.504 * self.g) + (0.098 * self.b) + 16\n",
    "        self.u = (-0.148 * self.r) - (0.291 * self.g) + (0.439 * self.b) + 128\n",
    "        self.v = (0.439 * self.r) - (0.368 * self.g) - (0.071 * self.b) + 128\n",
    "    \n",
    "    def yuv_to_rgb(self):\n",
    "        self.b = 1.164 * (self.y - 16) + 2.018 * (self.u - 128)\n",
    "        self.g = 1.164 * (self.y - 16) - 0.813 * (self.v - 128) - 0.391 * (self.u - 128)\n",
    "        self.r = 1.164 * (self.y - 16) + 1.596 * (self.v - 128) \n",
    "    \n",
    "    def print_RGB_values(self):\n",
    "        print(\"R:\", self.r, \"\\n\")\n",
    "        print(\"G:\", self.g, \"\\n\")\n",
    "        print(\"B:\", self.b, \"\\n\")\n",
    "\n",
    "    def print_YUV_values(self):\n",
    "        print(\"Y:\", self.y, \"\\n\")\n",
    "        print(\"U:\", self.u, \"\\n\")\n",
    "        print(\"V:\", self.v, \"\\n\")"
   ]
  },
  {
   "cell_type": "markdown",
   "metadata": {},
   "source": [
    "**Exercise 2**\n",
    "---"
   ]
  },
  {
   "cell_type": "code",
   "execution_count": 3,
   "metadata": {},
   "outputs": [
    {
     "name": "stdout",
     "output_type": "stream",
     "text": [
      "R: 100 \n",
      "\n",
      "G: 50 \n",
      "\n",
      "B: 255 \n",
      "\n",
      "Y: 91.89 \n",
      "\n",
      "U: 210.59500000000003 \n",
      "\n",
      "V: 135.395 \n",
      "\n",
      "R: 100.13838000000001 \n",
      "\n",
      "G: 50.02917999999999 \n",
      "\n",
      "B: 255.01267000000004 \n",
      "\n"
     ]
    }
   ],
   "source": [
    "#Exercise 2\n",
    "i1 = Image(100, 50, 255)\n",
    "i1.print_RGB_values()\n",
    "i1.rgb_to_yuv()\n",
    "i1.print_YUV_values()\n",
    "i1.yuv_to_rgb()\n",
    "i1.print_RGB_values()"
   ]
  },
  {
   "cell_type": "markdown",
   "metadata": {},
   "source": [
    "**Exercise 3**\n",
    "---"
   ]
  },
  {
   "cell_type": "code",
   "execution_count": 6,
   "metadata": {},
   "outputs": [],
   "source": [
    "\n",
    "out=(\n",
    "    ffmpeg\n",
    "    .input('image.jpg')\n",
    "    .filter(\"scale\", 1080,1080)\n",
    "    .output('out_exercise3.jpg')\n",
    "    .run(capture_stdout=True)\n",
    ")\n"
   ]
  },
  {
   "cell_type": "markdown",
   "metadata": {},
   "source": [
    "**Exercise 4**\n",
    "---"
   ]
  },
  {
   "cell_type": "code",
   "execution_count": null,
   "metadata": {},
   "outputs": [],
   "source": [
    "#Code by 张家琪 Zhang Jiaqi taken from https://dev.to/marycheung021213/understanding-dct-and-quantization-in-jpeg-compression-1col\n",
    "\n",
    "# Obtaining a mask through zigzag scanning\n",
    "def z_scan_mask(C,N):\n",
    "    mask=np.zeros((N,N))\n",
    "    start=0\n",
    "    mask_m=start\n",
    "    mask_n=start\n",
    "    for i in range(C):\n",
    "        if i==0:\n",
    "            mask[mask_m,mask_n]=1\n",
    "        else:\n",
    "            # If even, move upward to the right\n",
    "            if (mask_m+mask_n)%2==0:\n",
    "                mask_m-=1\n",
    "                mask_n+=1\n",
    "                # If it exceeds the upper boundary, move downward\n",
    "                if mask_m<0:\n",
    "                    mask_m+=1\n",
    "                # If it exceeds the right boundary, move left\n",
    "                if mask_n>=N:\n",
    "                    mask_n-=1\n",
    "            # If odd, move downward to the left\n",
    "            else:\n",
    "                mask_m+=1\n",
    "                mask_n-=1\n",
    "                # If it exceeds the lower boundary, move upward\n",
    "                if mask_m>=N:\n",
    "                    mask_m-=1\n",
    "                # If it exceeds the left boundary, move right\n",
    "                if mask_n<0:\n",
    "                    mask_n+=1\n",
    "            mask[mask_m,mask_n]=1\n",
    "    return mask"
   ]
  },
  {
   "cell_type": "code",
   "execution_count": null,
   "metadata": {},
   "outputs": [],
   "source": [
    "'''\n",
    "path = 'coltrane.jpg'\n",
    "coltrane = ffmpeg.input(path)\n",
    "\n",
    "probe = ffmpeg.probe(path)\n",
    "\n",
    "image_info = next(s for s in probe['streams'] if s['codec_type'] == 'video')\n",
    "\n",
    "width = int(image_info['width'])\n",
    "height = int(image_info['height'])\n",
    "\n",
    "out, err = (\n",
    "    ffmpeg\n",
    "    .input(path)\n",
    "    .output('pipe:', format='rawvideo', pix_fmt='rgb24')\n",
    "    .run(capture_stdout=True)\n",
    ")\n",
    "\n",
    "coltrane_array = (\n",
    "    np\n",
    "    .frombuffer(out, np.uint8)\n",
    "    .reshape([-1, height, width, 3])\n",
    ")\n",
    "'''"
   ]
  },
  {
   "cell_type": "code",
   "execution_count": null,
   "metadata": {},
   "outputs": [],
   "source": [
    "'''\n",
    "image_squeezed = np.squeeze(coltrane_array)\n",
    "\n",
    "r = image_squeezed[:, :, 0]\n",
    "g = image_squeezed[:, :, 1]\n",
    "b = image_squeezed[:, :, 2]\n",
    "'''"
   ]
  },
  {
   "cell_type": "markdown",
   "metadata": {},
   "source": [
    "**Exercise 5.1**\n",
    "---"
   ]
  },
  {
   "cell_type": "code",
   "execution_count": null,
   "metadata": {},
   "outputs": [
    {
     "data": {
      "text/plain": [
       "(None, None)"
      ]
     },
     "execution_count": 8,
     "metadata": {},
     "output_type": "execute_result"
    }
   ],
   "source": [
    "# Exercise 5.1:\n",
    "path = 'superbowl.jpg'\n",
    "coltrane = ffmpeg.input(path)\n",
    "\n",
    "probe = ffmpeg.probe(path)\n",
    "\n",
    "image_info = next(s for s in probe['streams'] if s['codec_type'] == 'video')\n",
    "\n",
    "width = int(image_info['width'])\n",
    "height = int(image_info['height'])\n",
    "\n",
    "\n",
    "ffmpeg.output(\n",
    "    coltrane.filter('hue', s=0),\n",
    "    'output_exercise_5.jpg'\n",
    ").run()\n",
    "\n"
   ]
  },
  {
   "cell_type": "code",
   "execution_count": null,
   "metadata": {},
   "outputs": [],
   "source": [
    "#We assumed that the chain is given in an array. like: [1, 1, 1, 1, 0, 0, 0, 1, 0, 0, 1, 1]\n",
    "\n",
    "def codif_bits(bits_chain):\n",
    "    length = len(bits_chain)\n",
    "    encoding = \"\"\n",
    "    i = 0\n",
    "    while i < length:\n",
    "        count = 1\n",
    "        while i + 1 < length and bits_chain[i] == bits_chain[i + 1]:\n",
    "            count += 1\n",
    "            i += 1\n",
    "\n",
    "        encoding += str(bits_chain[i]) + str(count)\n",
    "        i += 1\n",
    "    \n",
    "    return encoding\n",
    "\n"
   ]
  },
  {
   "cell_type": "code",
   "execution_count": null,
   "metadata": {},
   "outputs": [
    {
     "name": "stdout",
     "output_type": "stream",
     "text": [
      "1403110212\n"
     ]
    }
   ],
   "source": [
    "bits = [1, 1, 1, 1, 0, 0, 0, 1, 0, 0, 1, 1] \n",
    "encoded_bits = codif_bits(bits) \n",
    "print(encoded_bits)"
   ]
  },
  {
   "cell_type": "markdown",
   "metadata": {},
   "source": [
    "**Exercise 6**\n",
    "---"
   ]
  },
  {
   "cell_type": "code",
   "execution_count": 7,
   "metadata": {},
   "outputs": [],
   "source": [
    "import cv2\n",
    "from scipy.fftpack import dct, idct\n",
    "import skimage.io as io"
   ]
  },
  {
   "cell_type": "code",
   "execution_count": null,
   "metadata": {},
   "outputs": [],
   "source": [
    "#Create the class\n",
    "class DCT:\n",
    "    \n",
    "    def __init__(self, img):\n",
    "        self.image = img\n",
    "    \n",
    "\n",
    "    \n",
    "    #Code by 张家琪 Zhang Jiaqi taken from https://dev.to/marycheung021213/understanding-dct-and-quantization-in-jpeg-compression-1col\n",
    "\n",
    "    # overlaying the mask, discarding the high-frequency components\n",
    "    def compressDCT(self, mask,N):\n",
    "        self.image = np.float32(self.image)\n",
    "        self.img_dct=np.zeros((self.image.shape[0]//N*N,self.image.shape[1]//N*N))\n",
    "        for m in range(0,self.img_dct.shape[0],N):\n",
    "            for n in range(0,self.img_dct.shape[1],N):\n",
    "                block=self.image[m:m+N,n:n+N]\n",
    "                # DCT\n",
    "                coeff=cv2.dct(block)\n",
    "                # IDCT, but only the parts of the image where the mask has a value of 1 are retained\n",
    "                iblock=cv2.idct(coeff*mask)\n",
    "                self.img_dct[m:m+N,n:n+N]=iblock"
   ]
  },
  {
   "cell_type": "code",
   "execution_count": null,
   "metadata": {},
   "outputs": [],
   "source": [
    "#Importing and pre-processing\n",
    "p = \"neptunes.jpg\"\n",
    "img=io.imread(p,as_gray=True)\n",
    "cv2.imshow(\"image\", img)\n",
    "cv2.waitKey(0)\n",
    "cv2.destroyAllWindows()"
   ]
  },
  {
   "cell_type": "code",
   "execution_count": null,
   "metadata": {},
   "outputs": [],
   "source": [
    "DCTimg = DCT(img)"
   ]
  },
  {
   "cell_type": "code",
   "execution_count": null,
   "metadata": {},
   "outputs": [],
   "source": [
    "C = 10\n",
    "N = 8\n",
    "mask = z_scan_mask(C, N)"
   ]
  },
  {
   "cell_type": "code",
   "execution_count": null,
   "metadata": {},
   "outputs": [],
   "source": [
    "#Apply DCT\n",
    "DCTimg.compressDCT(mask, N)\n",
    "cv2.imshow(\"image DCT\", DCTimg.img_dct)\n",
    "cv2.waitKey(0)\n",
    "cv2.destroyAllWindows()"
   ]
  },
  {
   "cell_type": "markdown",
   "metadata": {},
   "source": [
    "**Exercise 7**\n",
    "---"
   ]
  },
  {
   "cell_type": "code",
   "execution_count": null,
   "metadata": {},
   "outputs": [],
   "source": [
    "import pywt"
   ]
  },
  {
   "cell_type": "code",
   "execution_count": null,
   "metadata": {},
   "outputs": [],
   "source": [
    "class DWT:\n",
    "    def __init__(self, image):\n",
    "        self.image = image\n",
    "    \n",
    "    #Code by 张家琪 Zhang Jiaqi taken from https://dev.to/marycheung021213/understanding-dct-and-quantization-in-jpeg-compression-1col\n",
    "    #modified by Junior Bernales\n",
    "\n",
    "    # overlaying the mask, discarding the high-frequency components\n",
    "    def compressDWT(self, N):\n",
    "        self.image = np.float32(self.image)\n",
    "        self.img_dwt=np.zeros((self.image.shape[0]//N*N,self.image.shape[1]//N*N))\n",
    "        for m in range(0,self.img_dwt.shape[0],N):\n",
    "            for n in range(0,self.img_dwt.shape[1],N):\n",
    "                block=self.image[m:m+N,n:n+N]\n",
    "                # DCT\n",
    "                coeff=pywt.dwt2(block, 'db1')\n",
    "                # IDCT, but only the parts of the image where the mask has a value of 1 are retained\n",
    "                iblock=pywt.idwt2(coeff, 'db1')\n",
    "                self.img_dwt[m:m+N,n:n+N]=iblock"
   ]
  }
 ],
 "metadata": {
  "kernelspec": {
   "display_name": "Python 3",
   "language": "python",
   "name": "python3"
  },
  "language_info": {
   "codemirror_mode": {
    "name": "ipython",
    "version": 3
   },
   "file_extension": ".py",
   "mimetype": "text/x-python",
   "name": "python",
   "nbconvert_exporter": "python",
   "pygments_lexer": "ipython3",
   "version": "3.11.10"
  }
 },
 "nbformat": 4,
 "nbformat_minor": 2
}
